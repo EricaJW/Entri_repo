{
 "cells": [
  {
   "cell_type": "markdown",
   "id": "89f78dfc",
   "metadata": {},
   "source": [
    "## ABC Company Employee Data"
   ]
  },
  {
   "cell_type": "raw",
   "id": "d49b6f70",
   "metadata": {},
   "source": [
    "The dataset consists of 458 rows and 9 columns. In this session, I will use various methods of exploratory data analysis to examine the characteristics of the employee data of ABC Company. The data consists of 9 categories named 'Name', 'Team', 'Number', 'Position', 'Age', 'Height', 'Weight','College' and 'Salary'.  Note: this is a fictional dataset used strictly to demonstrate beginner data analysis skills. The results are not official and should not be used to conclude actual relationships between the variables listed and employee performance."
   ]
  },
  {
   "cell_type": "code",
   "execution_count": 1,
   "id": "0f893074",
   "metadata": {},
   "outputs": [],
   "source": [
    "import pandas as pd\n",
    "import seaborn as sns\n",
    "import matplotlib.pyplot as plt\n",
    "import numpy as np"
   ]
  },
  {
   "cell_type": "code",
   "execution_count": 2,
   "id": "2736747b",
   "metadata": {},
   "outputs": [
    {
     "name": "stdout",
     "output_type": "stream",
     "text": [
      "Requirement already satisfied: openpyxl in c:\\users\\jacob\\appdata\\local\\programs\\python\\python311\\lib\\site-packages (3.1.2)\n",
      "Requirement already satisfied: et-xmlfile in c:\\users\\jacob\\appdata\\local\\programs\\python\\python311\\lib\\site-packages (from openpyxl) (1.1.0)\n"
     ]
    },
    {
     "name": "stderr",
     "output_type": "stream",
     "text": [
      "\n",
      "[notice] A new release of pip is available: 23.3.1 -> 23.3.2\n",
      "[notice] To update, run: python.exe -m pip install --upgrade pip\n"
     ]
    }
   ],
   "source": [
    "!pip install openpyxl"
   ]
  },
  {
   "cell_type": "markdown",
   "id": "dc2d6922",
   "metadata": {},
   "source": [
    "### Converted the excel file into a dataframe for analysis."
   ]
  },
  {
   "cell_type": "code",
   "execution_count": 3,
   "id": "149c27a6",
   "metadata": {},
   "outputs": [
    {
     "data": {
      "text/html": [
       "<div>\n",
       "<style scoped>\n",
       "    .dataframe tbody tr th:only-of-type {\n",
       "        vertical-align: middle;\n",
       "    }\n",
       "\n",
       "    .dataframe tbody tr th {\n",
       "        vertical-align: top;\n",
       "    }\n",
       "\n",
       "    .dataframe thead th {\n",
       "        text-align: right;\n",
       "    }\n",
       "</style>\n",
       "<table border=\"1\" class=\"dataframe\">\n",
       "  <thead>\n",
       "    <tr style=\"text-align: right;\">\n",
       "      <th></th>\n",
       "      <th>Name</th>\n",
       "      <th>Team</th>\n",
       "      <th>Number</th>\n",
       "      <th>Position</th>\n",
       "      <th>Age</th>\n",
       "      <th>Height</th>\n",
       "      <th>Weight</th>\n",
       "      <th>College</th>\n",
       "      <th>Salary</th>\n",
       "    </tr>\n",
       "  </thead>\n",
       "  <tbody>\n",
       "    <tr>\n",
       "      <th>0</th>\n",
       "      <td>Avery Bradley</td>\n",
       "      <td>Boston Celtics</td>\n",
       "      <td>0</td>\n",
       "      <td>PG</td>\n",
       "      <td>25</td>\n",
       "      <td>2023-02-06 00:00:00</td>\n",
       "      <td>180</td>\n",
       "      <td>Texas</td>\n",
       "      <td>7730337.0</td>\n",
       "    </tr>\n",
       "    <tr>\n",
       "      <th>1</th>\n",
       "      <td>Jae Crowder</td>\n",
       "      <td>Boston Celtics</td>\n",
       "      <td>99</td>\n",
       "      <td>SF</td>\n",
       "      <td>25</td>\n",
       "      <td>2023-06-06 00:00:00</td>\n",
       "      <td>235</td>\n",
       "      <td>Marquette</td>\n",
       "      <td>6796117.0</td>\n",
       "    </tr>\n",
       "    <tr>\n",
       "      <th>2</th>\n",
       "      <td>John Holland</td>\n",
       "      <td>Boston Celtics</td>\n",
       "      <td>30</td>\n",
       "      <td>SG</td>\n",
       "      <td>27</td>\n",
       "      <td>2023-05-06 00:00:00</td>\n",
       "      <td>205</td>\n",
       "      <td>Boston University</td>\n",
       "      <td>NaN</td>\n",
       "    </tr>\n",
       "    <tr>\n",
       "      <th>3</th>\n",
       "      <td>R.J. Hunter</td>\n",
       "      <td>Boston Celtics</td>\n",
       "      <td>28</td>\n",
       "      <td>SG</td>\n",
       "      <td>22</td>\n",
       "      <td>2023-05-06 00:00:00</td>\n",
       "      <td>185</td>\n",
       "      <td>Georgia State</td>\n",
       "      <td>1148640.0</td>\n",
       "    </tr>\n",
       "    <tr>\n",
       "      <th>4</th>\n",
       "      <td>Jonas Jerebko</td>\n",
       "      <td>Boston Celtics</td>\n",
       "      <td>8</td>\n",
       "      <td>PF</td>\n",
       "      <td>29</td>\n",
       "      <td>2023-10-06 00:00:00</td>\n",
       "      <td>231</td>\n",
       "      <td>NaN</td>\n",
       "      <td>5000000.0</td>\n",
       "    </tr>\n",
       "    <tr>\n",
       "      <th>...</th>\n",
       "      <td>...</td>\n",
       "      <td>...</td>\n",
       "      <td>...</td>\n",
       "      <td>...</td>\n",
       "      <td>...</td>\n",
       "      <td>...</td>\n",
       "      <td>...</td>\n",
       "      <td>...</td>\n",
       "      <td>...</td>\n",
       "    </tr>\n",
       "    <tr>\n",
       "      <th>453</th>\n",
       "      <td>Shelvin Mack</td>\n",
       "      <td>Utah Jazz</td>\n",
       "      <td>8</td>\n",
       "      <td>PG</td>\n",
       "      <td>26</td>\n",
       "      <td>2023-03-06 00:00:00</td>\n",
       "      <td>203</td>\n",
       "      <td>Butler</td>\n",
       "      <td>2433333.0</td>\n",
       "    </tr>\n",
       "    <tr>\n",
       "      <th>454</th>\n",
       "      <td>Raul Neto</td>\n",
       "      <td>Utah Jazz</td>\n",
       "      <td>25</td>\n",
       "      <td>PG</td>\n",
       "      <td>24</td>\n",
       "      <td>2023-01-06 00:00:00</td>\n",
       "      <td>179</td>\n",
       "      <td>NaN</td>\n",
       "      <td>900000.0</td>\n",
       "    </tr>\n",
       "    <tr>\n",
       "      <th>455</th>\n",
       "      <td>Tibor Pleiss</td>\n",
       "      <td>Utah Jazz</td>\n",
       "      <td>21</td>\n",
       "      <td>C</td>\n",
       "      <td>26</td>\n",
       "      <td>2023-03-07 00:00:00</td>\n",
       "      <td>256</td>\n",
       "      <td>NaN</td>\n",
       "      <td>2900000.0</td>\n",
       "    </tr>\n",
       "    <tr>\n",
       "      <th>456</th>\n",
       "      <td>Jeff Withey</td>\n",
       "      <td>Utah Jazz</td>\n",
       "      <td>24</td>\n",
       "      <td>C</td>\n",
       "      <td>26</td>\n",
       "      <td>7-0</td>\n",
       "      <td>231</td>\n",
       "      <td>Kansas</td>\n",
       "      <td>947276.0</td>\n",
       "    </tr>\n",
       "    <tr>\n",
       "      <th>457</th>\n",
       "      <td>Priyanka</td>\n",
       "      <td>Utah Jazz</td>\n",
       "      <td>34</td>\n",
       "      <td>C</td>\n",
       "      <td>25</td>\n",
       "      <td>2023-03-07 00:00:00</td>\n",
       "      <td>231</td>\n",
       "      <td>Kansas</td>\n",
       "      <td>947276.0</td>\n",
       "    </tr>\n",
       "  </tbody>\n",
       "</table>\n",
       "<p>458 rows × 9 columns</p>\n",
       "</div>"
      ],
      "text/plain": [
       "              Name            Team  Number Position  Age               Height  \\\n",
       "0    Avery Bradley  Boston Celtics       0       PG   25  2023-02-06 00:00:00   \n",
       "1      Jae Crowder  Boston Celtics      99       SF   25  2023-06-06 00:00:00   \n",
       "2     John Holland  Boston Celtics      30       SG   27  2023-05-06 00:00:00   \n",
       "3      R.J. Hunter  Boston Celtics      28       SG   22  2023-05-06 00:00:00   \n",
       "4    Jonas Jerebko  Boston Celtics       8       PF   29  2023-10-06 00:00:00   \n",
       "..             ...             ...     ...      ...  ...                  ...   \n",
       "453   Shelvin Mack       Utah Jazz       8       PG   26  2023-03-06 00:00:00   \n",
       "454      Raul Neto       Utah Jazz      25       PG   24  2023-01-06 00:00:00   \n",
       "455   Tibor Pleiss       Utah Jazz      21        C   26  2023-03-07 00:00:00   \n",
       "456    Jeff Withey       Utah Jazz      24        C   26                  7-0   \n",
       "457       Priyanka       Utah Jazz      34        C   25  2023-03-07 00:00:00   \n",
       "\n",
       "     Weight            College     Salary  \n",
       "0       180              Texas  7730337.0  \n",
       "1       235          Marquette  6796117.0  \n",
       "2       205  Boston University        NaN  \n",
       "3       185      Georgia State  1148640.0  \n",
       "4       231                NaN  5000000.0  \n",
       "..      ...                ...        ...  \n",
       "453     203             Butler  2433333.0  \n",
       "454     179                NaN   900000.0  \n",
       "455     256                NaN  2900000.0  \n",
       "456     231             Kansas   947276.0  \n",
       "457     231             Kansas   947276.0  \n",
       "\n",
       "[458 rows x 9 columns]"
      ]
     },
     "execution_count": 3,
     "metadata": {},
     "output_type": "execute_result"
    }
   ],
   "source": [
    "df=pd.read_excel('myexcel.xlsx')\n",
    "df"
   ]
  },
  {
   "cell_type": "markdown",
   "id": "fc81bcff",
   "metadata": {},
   "source": [
    "### Basic details"
   ]
  },
  {
   "cell_type": "code",
   "execution_count": 4,
   "id": "560707a8",
   "metadata": {
    "scrolled": true
   },
   "outputs": [
    {
     "data": {
      "text/html": [
       "<div>\n",
       "<style scoped>\n",
       "    .dataframe tbody tr th:only-of-type {\n",
       "        vertical-align: middle;\n",
       "    }\n",
       "\n",
       "    .dataframe tbody tr th {\n",
       "        vertical-align: top;\n",
       "    }\n",
       "\n",
       "    .dataframe thead th {\n",
       "        text-align: right;\n",
       "    }\n",
       "</style>\n",
       "<table border=\"1\" class=\"dataframe\">\n",
       "  <thead>\n",
       "    <tr style=\"text-align: right;\">\n",
       "      <th></th>\n",
       "      <th>Name</th>\n",
       "      <th>Team</th>\n",
       "      <th>Number</th>\n",
       "      <th>Position</th>\n",
       "      <th>Age</th>\n",
       "      <th>Height</th>\n",
       "      <th>Weight</th>\n",
       "      <th>College</th>\n",
       "      <th>Salary</th>\n",
       "    </tr>\n",
       "  </thead>\n",
       "  <tbody>\n",
       "    <tr>\n",
       "      <th>count</th>\n",
       "      <td>458</td>\n",
       "      <td>458</td>\n",
       "      <td>458.000000</td>\n",
       "      <td>458</td>\n",
       "      <td>458.000000</td>\n",
       "      <td>458</td>\n",
       "      <td>458.000000</td>\n",
       "      <td>374</td>\n",
       "      <td>4.470000e+02</td>\n",
       "    </tr>\n",
       "    <tr>\n",
       "      <th>unique</th>\n",
       "      <td>458</td>\n",
       "      <td>30</td>\n",
       "      <td>NaN</td>\n",
       "      <td>5</td>\n",
       "      <td>NaN</td>\n",
       "      <td>18</td>\n",
       "      <td>NaN</td>\n",
       "      <td>118</td>\n",
       "      <td>NaN</td>\n",
       "    </tr>\n",
       "    <tr>\n",
       "      <th>top</th>\n",
       "      <td>Avery Bradley</td>\n",
       "      <td>New Orleans Pelicans</td>\n",
       "      <td>NaN</td>\n",
       "      <td>SG</td>\n",
       "      <td>NaN</td>\n",
       "      <td>2023-09-06 00:00:00</td>\n",
       "      <td>NaN</td>\n",
       "      <td>Kentucky</td>\n",
       "      <td>NaN</td>\n",
       "    </tr>\n",
       "    <tr>\n",
       "      <th>freq</th>\n",
       "      <td>1</td>\n",
       "      <td>19</td>\n",
       "      <td>NaN</td>\n",
       "      <td>102</td>\n",
       "      <td>NaN</td>\n",
       "      <td>59</td>\n",
       "      <td>NaN</td>\n",
       "      <td>22</td>\n",
       "      <td>NaN</td>\n",
       "    </tr>\n",
       "    <tr>\n",
       "      <th>mean</th>\n",
       "      <td>NaN</td>\n",
       "      <td>NaN</td>\n",
       "      <td>17.713974</td>\n",
       "      <td>NaN</td>\n",
       "      <td>26.934498</td>\n",
       "      <td>NaN</td>\n",
       "      <td>221.543668</td>\n",
       "      <td>NaN</td>\n",
       "      <td>4.833970e+06</td>\n",
       "    </tr>\n",
       "    <tr>\n",
       "      <th>std</th>\n",
       "      <td>NaN</td>\n",
       "      <td>NaN</td>\n",
       "      <td>15.966837</td>\n",
       "      <td>NaN</td>\n",
       "      <td>4.400128</td>\n",
       "      <td>NaN</td>\n",
       "      <td>26.343200</td>\n",
       "      <td>NaN</td>\n",
       "      <td>5.226620e+06</td>\n",
       "    </tr>\n",
       "    <tr>\n",
       "      <th>min</th>\n",
       "      <td>NaN</td>\n",
       "      <td>NaN</td>\n",
       "      <td>0.000000</td>\n",
       "      <td>NaN</td>\n",
       "      <td>19.000000</td>\n",
       "      <td>NaN</td>\n",
       "      <td>161.000000</td>\n",
       "      <td>NaN</td>\n",
       "      <td>3.088800e+04</td>\n",
       "    </tr>\n",
       "    <tr>\n",
       "      <th>25%</th>\n",
       "      <td>NaN</td>\n",
       "      <td>NaN</td>\n",
       "      <td>5.000000</td>\n",
       "      <td>NaN</td>\n",
       "      <td>24.000000</td>\n",
       "      <td>NaN</td>\n",
       "      <td>200.000000</td>\n",
       "      <td>NaN</td>\n",
       "      <td>1.025210e+06</td>\n",
       "    </tr>\n",
       "    <tr>\n",
       "      <th>50%</th>\n",
       "      <td>NaN</td>\n",
       "      <td>NaN</td>\n",
       "      <td>13.000000</td>\n",
       "      <td>NaN</td>\n",
       "      <td>26.000000</td>\n",
       "      <td>NaN</td>\n",
       "      <td>220.000000</td>\n",
       "      <td>NaN</td>\n",
       "      <td>2.836186e+06</td>\n",
       "    </tr>\n",
       "    <tr>\n",
       "      <th>75%</th>\n",
       "      <td>NaN</td>\n",
       "      <td>NaN</td>\n",
       "      <td>25.000000</td>\n",
       "      <td>NaN</td>\n",
       "      <td>30.000000</td>\n",
       "      <td>NaN</td>\n",
       "      <td>240.000000</td>\n",
       "      <td>NaN</td>\n",
       "      <td>6.500000e+06</td>\n",
       "    </tr>\n",
       "    <tr>\n",
       "      <th>max</th>\n",
       "      <td>NaN</td>\n",
       "      <td>NaN</td>\n",
       "      <td>99.000000</td>\n",
       "      <td>NaN</td>\n",
       "      <td>40.000000</td>\n",
       "      <td>NaN</td>\n",
       "      <td>307.000000</td>\n",
       "      <td>NaN</td>\n",
       "      <td>2.500000e+07</td>\n",
       "    </tr>\n",
       "  </tbody>\n",
       "</table>\n",
       "</div>"
      ],
      "text/plain": [
       "                 Name                  Team      Number Position         Age  \\\n",
       "count             458                   458  458.000000      458  458.000000   \n",
       "unique            458                    30         NaN        5         NaN   \n",
       "top     Avery Bradley  New Orleans Pelicans         NaN       SG         NaN   \n",
       "freq                1                    19         NaN      102         NaN   \n",
       "mean              NaN                   NaN   17.713974      NaN   26.934498   \n",
       "std               NaN                   NaN   15.966837      NaN    4.400128   \n",
       "min               NaN                   NaN    0.000000      NaN   19.000000   \n",
       "25%               NaN                   NaN    5.000000      NaN   24.000000   \n",
       "50%               NaN                   NaN   13.000000      NaN   26.000000   \n",
       "75%               NaN                   NaN   25.000000      NaN   30.000000   \n",
       "max               NaN                   NaN   99.000000      NaN   40.000000   \n",
       "\n",
       "                     Height      Weight   College        Salary  \n",
       "count                   458  458.000000       374  4.470000e+02  \n",
       "unique                   18         NaN       118           NaN  \n",
       "top     2023-09-06 00:00:00         NaN  Kentucky           NaN  \n",
       "freq                     59         NaN        22           NaN  \n",
       "mean                    NaN  221.543668       NaN  4.833970e+06  \n",
       "std                     NaN   26.343200       NaN  5.226620e+06  \n",
       "min                     NaN  161.000000       NaN  3.088800e+04  \n",
       "25%                     NaN  200.000000       NaN  1.025210e+06  \n",
       "50%                     NaN  220.000000       NaN  2.836186e+06  \n",
       "75%                     NaN  240.000000       NaN  6.500000e+06  \n",
       "max                     NaN  307.000000       NaN  2.500000e+07  "
      ]
     },
     "execution_count": 4,
     "metadata": {},
     "output_type": "execute_result"
    }
   ],
   "source": [
    "df.describe(include='all')"
   ]
  },
  {
   "cell_type": "code",
   "execution_count": 5,
   "id": "916bd5b7",
   "metadata": {},
   "outputs": [
    {
     "name": "stdout",
     "output_type": "stream",
     "text": [
      "<class 'pandas.core.frame.DataFrame'>\n",
      "RangeIndex: 458 entries, 0 to 457\n",
      "Data columns (total 9 columns):\n",
      " #   Column    Non-Null Count  Dtype  \n",
      "---  ------    --------------  -----  \n",
      " 0   Name      458 non-null    object \n",
      " 1   Team      458 non-null    object \n",
      " 2   Number    458 non-null    int64  \n",
      " 3   Position  458 non-null    object \n",
      " 4   Age       458 non-null    int64  \n",
      " 5   Height    458 non-null    object \n",
      " 6   Weight    458 non-null    int64  \n",
      " 7   College   374 non-null    object \n",
      " 8   Salary    447 non-null    float64\n",
      "dtypes: float64(1), int64(3), object(5)\n",
      "memory usage: 32.3+ KB\n"
     ]
    }
   ],
   "source": [
    "df.info()"
   ]
  },
  {
   "cell_type": "markdown",
   "id": "725ce7d3",
   "metadata": {},
   "source": [
    "#### Identifying if there any null values in the given columns."
   ]
  },
  {
   "cell_type": "code",
   "execution_count": 6,
   "id": "8b471599",
   "metadata": {},
   "outputs": [
    {
     "data": {
      "text/plain": [
       "Name         0\n",
       "Team         0\n",
       "Number       0\n",
       "Position     0\n",
       "Age          0\n",
       "Height       0\n",
       "Weight       0\n",
       "College     84\n",
       "Salary      11\n",
       "dtype: int64"
      ]
     },
     "execution_count": 6,
     "metadata": {},
     "output_type": "execute_result"
    }
   ],
   "source": [
    "df.isnull().sum()"
   ]
  },
  {
   "cell_type": "markdown",
   "id": "4de31fcb",
   "metadata": {},
   "source": [
    "### Replacing the null values with 0"
   ]
  },
  {
   "cell_type": "code",
   "execution_count": 25,
   "id": "f36378a1",
   "metadata": {},
   "outputs": [
    {
     "data": {
      "text/plain": [
       "0"
      ]
     },
     "execution_count": 25,
     "metadata": {},
     "output_type": "execute_result"
    }
   ],
   "source": [
    "df['Salary'].fillna(0, inplace=True)\n",
    "df['Salary'].isnull().sum()\n"
   ]
  },
  {
   "cell_type": "markdown",
   "id": "ff9777c6",
   "metadata": {},
   "source": [
    "#### Checking for duplicate values."
   ]
  },
  {
   "cell_type": "code",
   "execution_count": 7,
   "id": "0724f049",
   "metadata": {},
   "outputs": [
    {
     "data": {
      "text/plain": [
       "0"
      ]
     },
     "execution_count": 7,
     "metadata": {},
     "output_type": "execute_result"
    }
   ],
   "source": [
    "df.duplicated().sum()"
   ]
  },
  {
   "cell_type": "markdown",
   "id": "fbc0e8fa",
   "metadata": {},
   "source": [
    "#### Identifying the column names."
   ]
  },
  {
   "cell_type": "code",
   "execution_count": 8,
   "id": "38c4d53c",
   "metadata": {
    "scrolled": true
   },
   "outputs": [
    {
     "data": {
      "text/plain": [
       "Index(['Name', 'Team', 'Number', 'Position', 'Age', 'Height', 'Weight',\n",
       "       'College', 'Salary'],\n",
       "      dtype='object')"
      ]
     },
     "execution_count": 8,
     "metadata": {},
     "output_type": "execute_result"
    }
   ],
   "source": [
    "df.columns"
   ]
  },
  {
   "cell_type": "markdown",
   "id": "8d8e5486",
   "metadata": {},
   "source": [
    "#### Resetting the data in height column"
   ]
  },
  {
   "cell_type": "code",
   "execution_count": 9,
   "id": "8e5240dd",
   "metadata": {},
   "outputs": [
    {
     "data": {
      "text/html": [
       "<div>\n",
       "<style scoped>\n",
       "    .dataframe tbody tr th:only-of-type {\n",
       "        vertical-align: middle;\n",
       "    }\n",
       "\n",
       "    .dataframe tbody tr th {\n",
       "        vertical-align: top;\n",
       "    }\n",
       "\n",
       "    .dataframe thead th {\n",
       "        text-align: right;\n",
       "    }\n",
       "</style>\n",
       "<table border=\"1\" class=\"dataframe\">\n",
       "  <thead>\n",
       "    <tr style=\"text-align: right;\">\n",
       "      <th></th>\n",
       "      <th>Name</th>\n",
       "      <th>Team</th>\n",
       "      <th>Number</th>\n",
       "      <th>Position</th>\n",
       "      <th>Age</th>\n",
       "      <th>Height</th>\n",
       "      <th>Weight</th>\n",
       "      <th>College</th>\n",
       "      <th>Salary</th>\n",
       "    </tr>\n",
       "  </thead>\n",
       "  <tbody>\n",
       "    <tr>\n",
       "      <th>0</th>\n",
       "      <td>Avery Bradley</td>\n",
       "      <td>Boston Celtics</td>\n",
       "      <td>0</td>\n",
       "      <td>PG</td>\n",
       "      <td>25</td>\n",
       "      <td>161.651699</td>\n",
       "      <td>180</td>\n",
       "      <td>Texas</td>\n",
       "      <td>7730337.0</td>\n",
       "    </tr>\n",
       "    <tr>\n",
       "      <th>1</th>\n",
       "      <td>Jae Crowder</td>\n",
       "      <td>Boston Celtics</td>\n",
       "      <td>99</td>\n",
       "      <td>SF</td>\n",
       "      <td>25</td>\n",
       "      <td>169.785551</td>\n",
       "      <td>235</td>\n",
       "      <td>Marquette</td>\n",
       "      <td>6796117.0</td>\n",
       "    </tr>\n",
       "    <tr>\n",
       "      <th>2</th>\n",
       "      <td>John Holland</td>\n",
       "      <td>Boston Celtics</td>\n",
       "      <td>30</td>\n",
       "      <td>SG</td>\n",
       "      <td>27</td>\n",
       "      <td>178.636061</td>\n",
       "      <td>205</td>\n",
       "      <td>Boston University</td>\n",
       "      <td>NaN</td>\n",
       "    </tr>\n",
       "    <tr>\n",
       "      <th>3</th>\n",
       "      <td>R.J. Hunter</td>\n",
       "      <td>Boston Celtics</td>\n",
       "      <td>28</td>\n",
       "      <td>SG</td>\n",
       "      <td>22</td>\n",
       "      <td>164.982721</td>\n",
       "      <td>185</td>\n",
       "      <td>Georgia State</td>\n",
       "      <td>1148640.0</td>\n",
       "    </tr>\n",
       "    <tr>\n",
       "      <th>4</th>\n",
       "      <td>Jonas Jerebko</td>\n",
       "      <td>Boston Celtics</td>\n",
       "      <td>8</td>\n",
       "      <td>PF</td>\n",
       "      <td>29</td>\n",
       "      <td>161.348744</td>\n",
       "      <td>231</td>\n",
       "      <td>NaN</td>\n",
       "      <td>5000000.0</td>\n",
       "    </tr>\n",
       "    <tr>\n",
       "      <th>...</th>\n",
       "      <td>...</td>\n",
       "      <td>...</td>\n",
       "      <td>...</td>\n",
       "      <td>...</td>\n",
       "      <td>...</td>\n",
       "      <td>...</td>\n",
       "      <td>...</td>\n",
       "      <td>...</td>\n",
       "      <td>...</td>\n",
       "    </tr>\n",
       "    <tr>\n",
       "      <th>453</th>\n",
       "      <td>Shelvin Mack</td>\n",
       "      <td>Utah Jazz</td>\n",
       "      <td>8</td>\n",
       "      <td>PG</td>\n",
       "      <td>26</td>\n",
       "      <td>153.023713</td>\n",
       "      <td>203</td>\n",
       "      <td>Butler</td>\n",
       "      <td>2433333.0</td>\n",
       "    </tr>\n",
       "    <tr>\n",
       "      <th>454</th>\n",
       "      <td>Raul Neto</td>\n",
       "      <td>Utah Jazz</td>\n",
       "      <td>25</td>\n",
       "      <td>PG</td>\n",
       "      <td>24</td>\n",
       "      <td>169.216809</td>\n",
       "      <td>179</td>\n",
       "      <td>NaN</td>\n",
       "      <td>900000.0</td>\n",
       "    </tr>\n",
       "    <tr>\n",
       "      <th>455</th>\n",
       "      <td>Tibor Pleiss</td>\n",
       "      <td>Utah Jazz</td>\n",
       "      <td>21</td>\n",
       "      <td>C</td>\n",
       "      <td>26</td>\n",
       "      <td>171.640335</td>\n",
       "      <td>256</td>\n",
       "      <td>NaN</td>\n",
       "      <td>2900000.0</td>\n",
       "    </tr>\n",
       "    <tr>\n",
       "      <th>456</th>\n",
       "      <td>Jeff Withey</td>\n",
       "      <td>Utah Jazz</td>\n",
       "      <td>24</td>\n",
       "      <td>C</td>\n",
       "      <td>26</td>\n",
       "      <td>165.154815</td>\n",
       "      <td>231</td>\n",
       "      <td>Kansas</td>\n",
       "      <td>947276.0</td>\n",
       "    </tr>\n",
       "    <tr>\n",
       "      <th>457</th>\n",
       "      <td>Priyanka</td>\n",
       "      <td>Utah Jazz</td>\n",
       "      <td>34</td>\n",
       "      <td>C</td>\n",
       "      <td>25</td>\n",
       "      <td>157.980726</td>\n",
       "      <td>231</td>\n",
       "      <td>Kansas</td>\n",
       "      <td>947276.0</td>\n",
       "    </tr>\n",
       "  </tbody>\n",
       "</table>\n",
       "<p>458 rows × 9 columns</p>\n",
       "</div>"
      ],
      "text/plain": [
       "              Name            Team  Number Position  Age      Height  Weight  \\\n",
       "0    Avery Bradley  Boston Celtics       0       PG   25  161.651699     180   \n",
       "1      Jae Crowder  Boston Celtics      99       SF   25  169.785551     235   \n",
       "2     John Holland  Boston Celtics      30       SG   27  178.636061     205   \n",
       "3      R.J. Hunter  Boston Celtics      28       SG   22  164.982721     185   \n",
       "4    Jonas Jerebko  Boston Celtics       8       PF   29  161.348744     231   \n",
       "..             ...             ...     ...      ...  ...         ...     ...   \n",
       "453   Shelvin Mack       Utah Jazz       8       PG   26  153.023713     203   \n",
       "454      Raul Neto       Utah Jazz      25       PG   24  169.216809     179   \n",
       "455   Tibor Pleiss       Utah Jazz      21        C   26  171.640335     256   \n",
       "456    Jeff Withey       Utah Jazz      24        C   26  165.154815     231   \n",
       "457       Priyanka       Utah Jazz      34        C   25  157.980726     231   \n",
       "\n",
       "               College     Salary  \n",
       "0                Texas  7730337.0  \n",
       "1            Marquette  6796117.0  \n",
       "2    Boston University        NaN  \n",
       "3        Georgia State  1148640.0  \n",
       "4                  NaN  5000000.0  \n",
       "..                 ...        ...  \n",
       "453             Butler  2433333.0  \n",
       "454                NaN   900000.0  \n",
       "455                NaN  2900000.0  \n",
       "456             Kansas   947276.0  \n",
       "457             Kansas   947276.0  \n",
       "\n",
       "[458 rows x 9 columns]"
      ]
     },
     "execution_count": 9,
     "metadata": {},
     "output_type": "execute_result"
    }
   ],
   "source": [
    "# Generate random heights between 150 and 180 for each row\n",
    "df['Height'] = np.random.uniform(150, 180, len(df))\n",
    "df"
   ]
  },
  {
   "cell_type": "code",
   "execution_count": 10,
   "id": "73af445b",
   "metadata": {},
   "outputs": [],
   "source": [
    "# Reset the index to make 'Team' a regular column\n",
    "df_reset_index = df.reset_index()\n",
    "# Group by Team\n",
    "grouped_by_team = df_reset_index.groupby('Team')\n"
   ]
  },
  {
   "cell_type": "markdown",
   "id": "ee1afc35",
   "metadata": {},
   "source": [
    "#### Displaying the name of teams"
   ]
  },
  {
   "cell_type": "code",
   "execution_count": 11,
   "id": "6e5ba8ea",
   "metadata": {},
   "outputs": [
    {
     "name": "stdout",
     "output_type": "stream",
     "text": [
      "Team: Atlanta Hawks\n",
      "Team: Boston Celtics\n",
      "Team: Brooklyn Nets\n",
      "Team: Charlotte Hornets\n",
      "Team: Chicago Bulls\n",
      "Team: Cleveland Cavaliers\n",
      "Team: Dallas Mavericks\n",
      "Team: Denver Nuggets\n",
      "Team: Detroit Pistons\n",
      "Team: Golden State Warriors\n",
      "Team: Houston Rockets\n",
      "Team: Indiana Pacers\n",
      "Team: Los Angeles Clippers\n",
      "Team: Los Angeles Lakers\n",
      "Team: Memphis Grizzlies\n",
      "Team: Miami Heat\n",
      "Team: Milwaukee Bucks\n",
      "Team: Minnesota Timberwolves\n",
      "Team: New Orleans Pelicans\n",
      "Team: New York Knicks\n",
      "Team: Oklahoma City Thunder\n",
      "Team: Orlando Magic\n",
      "Team: Philadelphia 76ers\n",
      "Team: Phoenix Suns\n",
      "Team: Portland Trail Blazers\n",
      "Team: Sacramento Kings\n",
      "Team: San Antonio Spurs\n",
      "Team: Toronto Raptors\n",
      "Team: Utah Jazz\n",
      "Team: Washington Wizards\n"
     ]
    }
   ],
   "source": [
    "for team, team_data in grouped_by_team:\n",
    "    print(f\"Team: {team}\")"
   ]
  },
  {
   "cell_type": "markdown",
   "id": "6fa631ff",
   "metadata": {},
   "source": [
    "#### Number of employees, aveage salary, and average age based on each team"
   ]
  },
  {
   "cell_type": "code",
   "execution_count": 27,
   "id": "dde26de5",
   "metadata": {},
   "outputs": [
    {
     "name": "stdout",
     "output_type": "stream",
     "text": [
      "Team: Atlanta Hawks\n",
      "Number of Employees: 15\n",
      "Average Salary: 4860196.666666667\n",
      "Average Age: 28.2\n",
      "Team: Boston Celtics\n",
      "Number of Employees: 15\n",
      "Average Salary: 4181504.8571428573\n",
      "Average Age: 24.733333333333334\n",
      "Team: Brooklyn Nets\n",
      "Number of Employees: 15\n",
      "Average Salary: 3501898.3333333335\n",
      "Average Age: 25.6\n",
      "Team: Charlotte Hornets\n",
      "Number of Employees: 15\n",
      "Average Salary: 5222728.0\n",
      "Average Age: 26.133333333333333\n",
      "Team: Chicago Bulls\n",
      "Number of Employees: 15\n",
      "Average Salary: 5785558.533333333\n",
      "Average Age: 27.4\n",
      "Team: Cleveland Cavaliers\n",
      "Number of Employees: 15\n",
      "Average Salary: 7642049.214285715\n",
      "Average Age: 29.533333333333335\n",
      "Team: Dallas Mavericks\n",
      "Number of Employees: 15\n",
      "Average Salary: 4746582.133333334\n",
      "Average Age: 29.733333333333334\n",
      "Team: Denver Nuggets\n",
      "Number of Employees: 15\n",
      "Average Salary: 4294423.571428572\n",
      "Average Age: 25.733333333333334\n",
      "Team: Detroit Pistons\n",
      "Number of Employees: 15\n",
      "Average Salary: 4477884.2\n",
      "Average Age: 26.2\n",
      "Team: Golden State Warriors\n",
      "Number of Employees: 15\n",
      "Average Salary: 5924599.8\n",
      "Average Age: 27.666666666666668\n",
      "Team: Houston Rockets\n",
      "Number of Employees: 15\n",
      "Average Salary: 5018868.066666666\n",
      "Average Age: 26.866666666666667\n",
      "Team: Indiana Pacers\n",
      "Number of Employees: 15\n",
      "Average Salary: 4450121.733333333\n",
      "Average Age: 26.4\n",
      "Team: Los Angeles Clippers\n",
      "Number of Employees: 15\n",
      "Average Salary: 6323642.666666667\n",
      "Average Age: 29.466666666666665\n",
      "Team: Los Angeles Lakers\n",
      "Number of Employees: 15\n",
      "Average Salary: 4784695.4\n",
      "Average Age: 27.533333333333335\n",
      "Team: Memphis Grizzlies\n",
      "Number of Employees: 18\n",
      "Average Salary: 5467920.0\n",
      "Average Age: 28.38888888888889\n",
      "Team: Miami Heat\n",
      "Number of Employees: 15\n",
      "Average Salary: 6347359.461538462\n",
      "Average Age: 28.933333333333334\n",
      "Team: Milwaukee Bucks\n",
      "Number of Employees: 16\n",
      "Average Salary: 4350219.8125\n",
      "Average Age: 24.5625\n",
      "Team: Minnesota Timberwolves\n",
      "Number of Employees: 14\n",
      "Average Salary: 4593053.615384615\n",
      "Average Age: 26.357142857142858\n",
      "Team: New Orleans Pelicans\n",
      "Number of Employees: 19\n",
      "Average Salary: 4355303.894736842\n",
      "Average Age: 26.894736842105264\n",
      "Team: New York Knicks\n",
      "Number of Employees: 16\n",
      "Average Salary: 4581493.625\n",
      "Average Age: 27.0\n",
      "Team: Oklahoma City Thunder\n",
      "Number of Employees: 15\n",
      "Average Salary: 6251019.866666666\n",
      "Average Age: 27.066666666666666\n",
      "Team: Orlando Magic\n",
      "Number of Employees: 14\n",
      "Average Salary: 4297247.857142857\n",
      "Average Age: 25.071428571428573\n",
      "Team: Philadelphia 76ers\n",
      "Number of Employees: 15\n",
      "Average Salary: 2213778.1428571427\n",
      "Average Age: 24.6\n",
      "Team: Phoenix Suns\n",
      "Number of Employees: 15\n",
      "Average Salary: 4229675.666666667\n",
      "Average Age: 25.866666666666667\n",
      "Team: Portland Trail Blazers\n",
      "Number of Employees: 15\n",
      "Average Salary: 3220121.2\n",
      "Average Age: 25.066666666666666\n",
      "Team: Sacramento Kings\n",
      "Number of Employees: 15\n",
      "Average Salary: 4778911.066666666\n",
      "Average Age: 26.8\n",
      "Team: San Antonio Spurs\n",
      "Number of Employees: 15\n",
      "Average Salary: 5629515.533333333\n",
      "Average Age: 31.6\n",
      "Team: Toronto Raptors\n",
      "Number of Employees: 15\n",
      "Average Salary: 4741174.066666666\n",
      "Average Age: 26.133333333333333\n",
      "Team: Utah Jazz\n",
      "Number of Employees: 16\n",
      "Average Salary: 4000460.4375\n",
      "Average Age: 24.5\n",
      "Team: Washington Wizards\n",
      "Number of Employees: 15\n",
      "Average Salary: 5088575.733333333\n",
      "Average Age: 27.866666666666667\n"
     ]
    }
   ],
   "source": [
    "for team, team_data in grouped_by_team:\n",
    "    print(f\"Team: {team}\")\n",
    "    print(f\"Number of Employees: {len(team_data)}\")\n",
    "    print(f\"Average Salary: {team_data['Salary'].mean()}\")\n",
    "    print(f\"Average Age: {team_data['Age'].mean()}\")"
   ]
  },
  {
   "cell_type": "markdown",
   "id": "7fcb9385",
   "metadata": {},
   "source": [
    "#### Find the teams with the highest and lowest average salary"
   ]
  },
  {
   "cell_type": "code",
   "execution_count": 28,
   "id": "48f5a815",
   "metadata": {},
   "outputs": [
    {
     "name": "stdout",
     "output_type": "stream",
     "text": [
      "Team with the highest average salary: Cleveland Cavaliers (Average Salary: 7132579.266666667)\n",
      "Team with the lowest average salary: Philadelphia 76ers (Average Salary: 2066192.9333333333)\n"
     ]
    }
   ],
   "source": [
    "team_average_salary = df.groupby('Team')['Salary'].mean()\n",
    "# Find the team with the highest average salary\n",
    "team_highest_salary = team_average_salary.idxmax()\n",
    "highest_salary_value = team_average_salary.max()\n",
    "\n",
    "# Find the team with the lowest average salary\n",
    "team_lowest_salary = team_average_salary.idxmin()\n",
    "lowest_salary_value = team_average_salary.min()\n",
    "\n",
    "print(f\"Team with the highest average salary: {team_highest_salary} (Average Salary: {highest_salary_value})\")\n",
    "print(f\"Team with the lowest average salary: {team_lowest_salary} (Average Salary: {lowest_salary_value})\")"
   ]
  },
  {
   "cell_type": "markdown",
   "id": "77c766c7",
   "metadata": {},
   "source": [
    "#### Find the teams with the highest and lowest average age"
   ]
  },
  {
   "cell_type": "code",
   "execution_count": 14,
   "id": "b57e957b",
   "metadata": {},
   "outputs": [
    {
     "name": "stdout",
     "output_type": "stream",
     "text": [
      "Team with the highest average age: San Antonio Spurs (Average age: 31.6)\n",
      "Team with the lowest average age: Utah Jazz (Average: 24.5)\n"
     ]
    }
   ],
   "source": [
    "team_average_age = df.groupby('Team')['Age'].mean()\n",
    "# Find the team with the highest average age\n",
    "team_highest_age = team_average_age.idxmax()\n",
    "highest_age = team_average_age.max()\n",
    "\n",
    "# Find the team with the lowest average age\n",
    "team_lowest_age = team_average_age.idxmin()\n",
    "lowest_age = team_average_age.min()\n",
    "\n",
    "print(f\"Team with the highest average age: {team_highest_age} (Average age: {highest_age})\")\n",
    "print(f\"Team with the lowest average age: {team_lowest_age} (Average: {lowest_age})\")"
   ]
  },
  {
   "cell_type": "markdown",
   "id": "766b6f53",
   "metadata": {},
   "source": [
    "#### 1.How many are there in each Team and the percentage splitting with respect to the total employees."
   ]
  },
  {
   "cell_type": "code",
   "execution_count": 15,
   "id": "21a70df4",
   "metadata": {},
   "outputs": [
    {
     "name": "stdout",
     "output_type": "stream",
     "text": [
      "                      Team  Number of Employees  Percentage Split\n",
      "0     New Orleans Pelicans                   19          4.148472\n",
      "1        Memphis Grizzlies                   18          3.930131\n",
      "2                Utah Jazz                   16          3.493450\n",
      "3          New York Knicks                   16          3.493450\n",
      "4          Milwaukee Bucks                   16          3.493450\n",
      "5            Brooklyn Nets                   15          3.275109\n",
      "6   Portland Trail Blazers                   15          3.275109\n",
      "7    Oklahoma City Thunder                   15          3.275109\n",
      "8           Denver Nuggets                   15          3.275109\n",
      "9       Washington Wizards                   15          3.275109\n",
      "10              Miami Heat                   15          3.275109\n",
      "11       Charlotte Hornets                   15          3.275109\n",
      "12           Atlanta Hawks                   15          3.275109\n",
      "13       San Antonio Spurs                   15          3.275109\n",
      "14         Houston Rockets                   15          3.275109\n",
      "15          Boston Celtics                   15          3.275109\n",
      "16          Indiana Pacers                   15          3.275109\n",
      "17         Detroit Pistons                   15          3.275109\n",
      "18     Cleveland Cavaliers                   15          3.275109\n",
      "19           Chicago Bulls                   15          3.275109\n",
      "20        Sacramento Kings                   15          3.275109\n",
      "21            Phoenix Suns                   15          3.275109\n",
      "22      Los Angeles Lakers                   15          3.275109\n",
      "23    Los Angeles Clippers                   15          3.275109\n",
      "24   Golden State Warriors                   15          3.275109\n",
      "25         Toronto Raptors                   15          3.275109\n",
      "26      Philadelphia 76ers                   15          3.275109\n",
      "27        Dallas Mavericks                   15          3.275109\n",
      "28           Orlando Magic                   14          3.056769\n",
      "29  Minnesota Timberwolves                   14          3.056769\n"
     ]
    }
   ],
   "source": [
    "\n",
    "# Count of employees in each team\n",
    "team_counts = df['Team'].value_counts()\n",
    "\n",
    "# Percentage splitting with respect to the total employees\n",
    "percentage_split = (team_counts / len(df)) * 100\n",
    "\n",
    "# Create a new DataFrame for the results\n",
    "team_summary = pd.DataFrame({\n",
    "    'Team': team_counts.index,\n",
    "    'Number of Employees': team_counts.values,\n",
    "    'Percentage Split': percentage_split.values\n",
    "})\n",
    "print(team_summary)\n"
   ]
  },
  {
   "cell_type": "markdown",
   "id": "8fd47ded",
   "metadata": {},
   "source": [
    "#### New Orleans Pelicans with 19 employees has the maximum number of employees. That is 4.14% of the total employees work in New Orleans Pelicans."
   ]
  },
  {
   "cell_type": "markdown",
   "id": "85df801c",
   "metadata": {},
   "source": [
    "#### 2.Segregate the employees w.r.t different positions."
   ]
  },
  {
   "cell_type": "code",
   "execution_count": 16,
   "id": "e6b265c0",
   "metadata": {},
   "outputs": [
    {
     "name": "stdout",
     "output_type": "stream",
     "text": [
      "Position: C\n",
      "                Name                    Team\n",
      "7       Kelly Olynyk          Boston Celtics\n",
      "10   Jared Sullinger          Boston Celtics\n",
      "14      Tyler Zeller          Boston Celtics\n",
      "23       Brook Lopez           Brooklyn Nets\n",
      "27        Henry Sims           Brooklyn Nets\n",
      "..               ...                     ...\n",
      "439    Mason Plumlee  Portland Trail Blazers\n",
      "447      Rudy Gobert               Utah Jazz\n",
      "455     Tibor Pleiss               Utah Jazz\n",
      "456      Jeff Withey               Utah Jazz\n",
      "457         Priyanka               Utah Jazz\n",
      "\n",
      "[79 rows x 2 columns]\n",
      "Position: PF\n",
      "                 Name                    Team\n",
      "4       Jonas Jerebko          Boston Celtics\n",
      "5        Amir Johnson          Boston Celtics\n",
      "6       Jordan Mickey          Boston Celtics\n",
      "24   Chris McCullough           Brooklyn Nets\n",
      "25        Willie Reed           Brooklyn Nets\n",
      "..                ...                     ...\n",
      "435    Meyers Leonard  Portland Trail Blazers\n",
      "441       Noah Vonleh  Portland Trail Blazers\n",
      "442     Trevor Booker               Utah Jazz\n",
      "446    Derrick Favors               Utah Jazz\n",
      "452        Trey Lyles               Utah Jazz\n",
      "\n",
      "[100 rows x 2 columns]\n",
      "Position: PG\n",
      "              Name                    Team\n",
      "0    Avery Bradley          Boston Celtics\n",
      "8     Terry Rozier          Boston Celtics\n",
      "9     Marcus Smart          Boston Celtics\n",
      "11   Isaiah Thomas          Boston Celtics\n",
      "19    Jarrett Jack           Brooklyn Nets\n",
      "..             ...                     ...\n",
      "440  Brian Roberts  Portland Trail Blazers\n",
      "443     Trey Burke               Utah Jazz\n",
      "445     Dante Exum               Utah Jazz\n",
      "453   Shelvin Mack               Utah Jazz\n",
      "454      Raul Neto               Utah Jazz\n",
      "\n",
      "[92 rows x 2 columns]\n",
      "Position: SF\n",
      "                       Name                    Team\n",
      "1               Jae Crowder          Boston Celtics\n",
      "32   Thanasis Antetokounmpo         New York Knicks\n",
      "33          Carmelo Anthony         New York Knicks\n",
      "35         Cleanthony Early         New York Knicks\n",
      "42             Lance Thomas         New York Knicks\n",
      "..                      ...                     ...\n",
      "428         Al-Farouq Aminu  Portland Trail Blazers\n",
      "432        Maurice Harkless  Portland Trail Blazers\n",
      "448          Gordon Hayward               Utah Jazz\n",
      "450              Joe Ingles               Utah Jazz\n",
      "451           Chris Johnson               Utah Jazz\n",
      "\n",
      "[85 rows x 2 columns]\n",
      "Position: SG\n",
      "                 Name                    Team\n",
      "2        John Holland          Boston Celtics\n",
      "3         R.J. Hunter          Boston Celtics\n",
      "12        Evan Turner          Boston Celtics\n",
      "13        James Young          Boston Celtics\n",
      "15   Bojan Bogdanovic           Brooklyn Nets\n",
      "..                ...                     ...\n",
      "433  Gerald Henderson  Portland Trail Blazers\n",
      "437     C.J. McCollum  Portland Trail Blazers\n",
      "438      Luis Montero  Portland Trail Blazers\n",
      "444        Alec Burks               Utah Jazz\n",
      "449       Rodney Hood               Utah Jazz\n",
      "\n",
      "[102 rows x 2 columns]\n"
     ]
    }
   ],
   "source": [
    "# Group by Position\n",
    "grouped_by_position = df.groupby('Position')\n",
    "\n",
    "# Iterate through groups\n",
    "for position, position_data in grouped_by_position:\n",
    "    print(f\"Position: {position}\")\n",
    "    \n",
    "    # Print or analyze information for each position\n",
    "    print(position_data[['Name', 'Team',]])\n",
    "    \n",
    "\n"
   ]
  },
  {
   "cell_type": "code",
   "execution_count": 17,
   "id": "8553b59c",
   "metadata": {},
   "outputs": [
    {
     "name": "stdout",
     "output_type": "stream",
     "text": [
      "Position with the most number of employees: SG (Number of Employees: 102)\n"
     ]
    }
   ],
   "source": [
    "# Count the number of employees for each position\n",
    "position_counts = df['Position'].value_counts()\n",
    "\n",
    "# Find the position with the most number of employees\n",
    "most_common_position = position_counts.idxmax()\n",
    "max_employees_count = position_counts.max()\n",
    "\n",
    "# Print the result\n",
    "print(f\"Position with the most number of employees: {most_common_position} (Number of Employees: {max_employees_count})\")"
   ]
  },
  {
   "cell_type": "markdown",
   "id": "0a621655",
   "metadata": {},
   "source": [
    "#### 3.Find from which age group most of the employees belong to."
   ]
  },
  {
   "cell_type": "code",
   "execution_count": 18,
   "id": "b867de6a",
   "metadata": {},
   "outputs": [
    {
     "name": "stdout",
     "output_type": "stream",
     "text": [
      "Most common age: 24 (Number of Employees: 47)\n"
     ]
    }
   ],
   "source": [
    "# Count the occurrences of each age\n",
    "age_counts = df['Age'].value_counts()\n",
    "\n",
    "# Find the most common age\n",
    "most_common_age = age_counts.idxmax()\n",
    "max_employees_count_age = age_counts.max()\n",
    "\n",
    "# Print the result\n",
    "print(f\"Most common age: {most_common_age} (Number of Employees: {max_employees_count_age})\")\n"
   ]
  },
  {
   "cell_type": "markdown",
   "id": "50e64d76",
   "metadata": {},
   "source": [
    "#### 4.Find out under which team and position, spending in terms of salary is high."
   ]
  },
  {
   "cell_type": "code",
   "execution_count": 29,
   "id": "bf95fa13",
   "metadata": {},
   "outputs": [
    {
     "name": "stdout",
     "output_type": "stream",
     "text": [
      "Team and Position with the highest spending: ('Los Angeles Lakers', 'SF') (Total Salary: 31866445.0)\n"
     ]
    }
   ],
   "source": [
    "# Group by Team and Position and calculate the total salary for each group\n",
    "team_position_salary = df.groupby(['Team', 'Position'])['Salary'].sum()\n",
    "\n",
    "# Find the team and position with the highest total salary\n",
    "highest_spending_team_position = team_position_salary.idxmax()\n",
    "highest_spending_salary = team_position_salary.max()\n",
    "\n",
    "# Print the result\n",
    "print(f\"Team and Position with the highest spending: {highest_spending_team_position} (Total Salary: {highest_spending_salary})\")\n"
   ]
  },
  {
   "cell_type": "markdown",
   "id": "bbde808d",
   "metadata": {},
   "source": [
    "#### 5.Find if there is any correlation between age and salary , represent it visually."
   ]
  },
  {
   "cell_type": "code",
   "execution_count": 30,
   "id": "646dbc0d",
   "metadata": {},
   "outputs": [
    {
     "name": "stdout",
     "output_type": "stream",
     "text": [
      "Correlation coefficient between Age and Salary: 0.2050096028480935\n"
     ]
    }
   ],
   "source": [
    "correlation_coefficient = df['Age'].corr(df['Salary'])\n",
    "print(f\"Correlation coefficient between Age and Salary: {correlation_coefficient}\")\n"
   ]
  },
  {
   "cell_type": "markdown",
   "id": "352404a6",
   "metadata": {},
   "source": [
    "##### There is a weak, but positive correlation between age and salary."
   ]
  },
  {
   "cell_type": "markdown",
   "id": "2955700b",
   "metadata": {},
   "source": [
    "#### Graphical representation of correlation between age and salary"
   ]
  },
  {
   "cell_type": "code",
   "execution_count": 35,
   "id": "997f8f7a",
   "metadata": {},
   "outputs": [
    {
     "data": {
      "image/png": "[encoded data removed]",
      "text/plain": [
       "<Figure size 1000x600 with 1 Axes>"
      ]
     },
     "metadata": {},
     "output_type": "display_data"
    }
   ],
   "source": [
    "import matplotlib.pyplot as plt\n",
    "\n",
    "# Assuming 'df' is your DataFrame with employee information\n",
    "\n",
    "# Create a scatter plot\n",
    "plt.figure(figsize=(10, 6))\n",
    "plt.scatter(df['Age'], df['Salary'])\n",
    "plt.title('Scatter Plot of Age vs Salary')\n",
    "plt.xlabel('Age')\n",
    "plt.ylabel('Salary')\n",
    "plt.show()\n",
    "\n"
   ]
  },
  {
   "cell_type": "markdown",
   "id": "d1c1e10b",
   "metadata": {},
   "source": [
    "#### The diagram shows a positive correlation between age and salary. Most of the values are around the middle making the correlation weak. We could also see some outliers in the graph."
   ]
  },
  {
   "cell_type": "code",
   "execution_count": null,
   "id": "69362a7c",
   "metadata": {},
   "outputs": [],
   "source": []
  }
 ],
 "metadata": {
  "kernelspec": {
   "display_name": "Python 3 (ipykernel)",
   "language": "python",
   "name": "python3"
  },
  "language_info": {
   "codemirror_mode": {
    "name": "ipython",
    "version": 3
   },
   "file_extension": ".py",
   "mimetype": "text/x-python",
   "name": "python",
   "nbconvert_exporter": "python",
   "pygments_lexer": "ipython3",
   "version": "3.11.2"
  }
 },
 "nbformat": 4,
 "nbformat_minor": 5
}
